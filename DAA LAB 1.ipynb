{
 "cells": [
  {
   "cell_type": "code",
   "execution_count": null,
   "id": "706dd6e3",
   "metadata": {},
   "outputs": [],
   "source": [
    "LAB1"
   ]
  },
  {
   "cell_type": "code",
   "execution_count": 3,
   "id": "deeb10a8",
   "metadata": {},
   "outputs": [
    {
     "name": "stdout",
     "output_type": "stream",
     "text": [
      "17 5 2 "
     ]
    }
   ],
   "source": [
    "def Leaders_numbers(arr,size):\n",
    "    for i in range(0, size):\n",
    "        j = i + 1\n",
    "        is_leader = True\n",
    "        \n",
    "        while j < size:\n",
    "            if arr[i]<=arr[j]:\n",
    "                break\n",
    "            j += 1\n",
    "            \n",
    "        if is_leader and j == size:\n",
    "            print (arr[i],end=\" \")\n",
    " \n",
    "arr=[16, 17, 4, 3, 5, 2]1\n",
    "Leaders_numbers(arr, len(arr))"
   ]
  },
  {
   "cell_type": "code",
   "execution_count": 2,
   "id": "925b3137",
   "metadata": {
    "scrolled": true
   },
   "outputs": [
    {
     "name": "stdout",
     "output_type": "stream",
     "text": [
      "Sorted array: [1, 2, 3, 4, 6, 7, 8]\n"
     ]
    }
   ],
   "source": [
    "def insertion_sort(arr):\n",
    "    for i in range(1, len(arr)):\n",
    "        key = arr[i]\n",
    "        j = i - 1\n",
    "        while j >= 0 and key < arr[j]:\n",
    "            arr[j + 1] = arr[j]\n",
    "            j -= 1\n",
    "        arr[j + 1] = key\n",
    "\n",
    "# Given array\n",
    "arr = [4, 3, 7, 8, 6, 2, 1]\n",
    "\n",
    "insertion_sort(arr)\n",
    "\n",
    "print(\"Sorted array:\", arr)"
   ]
  },
  {
   "cell_type": "code",
   "execution_count": null,
   "id": "6ad876de",
   "metadata": {},
   "outputs": [],
   "source": [
    "LAB 2"
   ]
  },
  {
   "cell_type": "raw",
   "id": "a5e9f550",
   "metadata": {},
   "source": [
    "a=[1,2,3,4,5]\n",
    "for i in range(len(a)):\n",
    "    for j in range(i+1,len(a)):\n",
    "        for k in range(j+1,len(a)):\n",
    "            if a[i]+a[j]+a[k]==9:\n",
    "                print(a[i],a[j],a[k])"
   ]
  },
  {
   "cell_type": "code",
   "execution_count": 4,
   "id": "de95f1bd",
   "metadata": {},
   "outputs": [
    {
     "name": "stdout",
     "output_type": "stream",
     "text": [
      "12 3 9\n"
     ]
    }
   ],
   "source": [
    "a=[12,3,4,1,6,9]\n",
    "for i in range(len(a)):\n",
    "    for j in range(i+1,len(a)):\n",
    "        for k in range(j+1,len(a)):\n",
    "            if a[i]+a[j]+a[k]==24:\n",
    "                print(a[i],a[j],a[k])"
   ]
  },
  {
   "cell_type": "markdown",
   "id": "2775ccf2",
   "metadata": {},
   "source": []
  }
 ],
 "metadata": {
  "kernelspec": {
   "display_name": "Python 3 (ipykernel)",
   "language": "python",
   "name": "python3"
  },
  "language_info": {
   "codemirror_mode": {
    "name": "ipython",
    "version": 3
   },
   "file_extension": ".py",
   "mimetype": "text/x-python",
   "name": "python",
   "nbconvert_exporter": "python",
   "pygments_lexer": "ipython3",
   "version": "3.9.13"
  }
 },
 "nbformat": 4,
 "nbformat_minor": 5
}
