{
 "cells": [
  {
   "cell_type": "code",
   "execution_count": null,
   "id": "ef356888",
   "metadata": {},
   "outputs": [],
   "source": [
    "def rotate_90_degrees(matrix):\n",
    "    # Calculate the number of rows and columns in the matrix\n",
    "    rows = len(matrix)\n",
    "    columns = len(matrix[0])\n",
    "    "
   ]
  },
  {
   "cell_type": "code",
   "execution_count": 6,
   "id": "876ecb42",
   "metadata": {},
   "outputs": [
    {
     "name": "stdout",
     "output_type": "stream",
     "text": [
      "(7, 4, 1)\n",
      "(8, 5, 2)\n",
      "(9, 6, 3)\n"
     ]
    }
   ],
   "source": [
    "def rotate_90_degrees(matrix):\n",
    "    return list(zip(*matrix[::-1]))\n",
    "\n",
    "# Example usage\n",
    "if __name__ == \"__main__\":\n",
    "    matrix = [\n",
    "        [1, 2, 3],\n",
    "        [4, 5, 6],\n",
    "        [7, 8, 9]\n",
    "    ]\n",
    "\n",
    "    rotated_matrix = rotate_90_degrees(matrix)\n",
    "    for row in rotated_matrix:\n",
    "        print(row)"
   ]
  },
  {
   "cell_type": "code",
   "execution_count": 2,
   "id": "d4080bb3",
   "metadata": {},
   "outputs": [
    {
     "name": "stdout",
     "output_type": "stream",
     "text": [
      "[3, 6, 9]\n",
      "[2, 5, 8]\n",
      "[1, 4, 7]\n"
     ]
    }
   ],
   "source": [
    "def rotate_90_degrees_left(matrix):\n",
    "    return [[matrix[j][i] for j in range(len(matrix))] for i in range(len(matrix[0]) - 1, -1, -1)]\n",
    "\n",
    "original_matrix = [[1, 2, 3], [4, 5, 6], [7, 8, 9]]\n",
    "rotated_matrix = rotate_90_degrees_left(original_matrix)\n",
    "\n",
    "for row in rotated_matrix:\n",
    "    print(row)"
   ]
  },
  {
   "cell_type": "code",
   "execution_count": 4,
   "id": "c6be2a08",
   "metadata": {},
   "outputs": [
    {
     "name": "stdout",
     "output_type": "stream",
     "text": [
      "[2, 1, 0]\n",
      "[3, 4, 5]\n",
      "[8, 7, 6]\n"
     ]
    }
   ],
   "source": [
    "def interchange_diagonals(matrix):\n",
    "    n = len(matrix)\n",
    "    for i in range(n):\n",
    "        matrix[i][i], matrix[i][n - i - 1] = matrix[i][n - i - 1], matrix[i][i]\n",
    "\n",
    "# Define the input matrix\n",
    "matrix = [\n",
    "    [0, 1, 2],\n",
    "    [3, 4, 5],\n",
    "    [6, 7, 8]\n",
    "]\n",
    "\n",
    "interchange_diagonals(matrix)\n",
    "\n",
    "for row in matrix:\n",
    "    print(row)\n"
   ]
  },
  {
   "cell_type": "code",
   "execution_count": 7,
   "id": "5641e928",
   "metadata": {},
   "outputs": [
    {
     "name": "stdout",
     "output_type": "stream",
     "text": [
      "[0, 1, 2, 3, 4, 5, 6, 7, 8, 9]\n"
     ]
    }
   ],
   "source": [
    "def rearrange_array(arr):\n",
    "    n = len(arr)\n",
    "    \n",
    "    for i in range(n):\n",
    "        while arr[i] != i:\n",
    "            temp = arr[i]\n",
    "            arr[i], arr[temp] = arr[temp], arr[i]\n",
    "    \n",
    "    return arr\n",
    "\n",
    "arr = [2, 3, 1, 0, 4, 5, 7, 6, 9, 8]\n",
    "result = rearrange_array(arr)\n",
    "print(result)\n"
   ]
  },
  {
   "cell_type": "code",
   "execution_count": null,
   "id": "90f0f127",
   "metadata": {},
   "outputs": [],
   "source": []
  }
 ],
 "metadata": {
  "kernelspec": {
   "display_name": "Python 3 (ipykernel)",
   "language": "python",
   "name": "python3"
  },
  "language_info": {
   "codemirror_mode": {
    "name": "ipython",
    "version": 3
   },
   "file_extension": ".py",
   "mimetype": "text/x-python",
   "name": "python",
   "nbconvert_exporter": "python",
   "pygments_lexer": "ipython3",
   "version": "3.9.13"
  }
 },
 "nbformat": 4,
 "nbformat_minor": 5
}
