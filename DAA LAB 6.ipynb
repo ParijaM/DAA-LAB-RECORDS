{
 "cells": [
  {
   "cell_type": "code",
   "execution_count": null,
   "id": "eb0c0c04",
   "metadata": {},
   "outputs": [],
   "source": [
    "# Sort the matrix without any inbuilt libraries of python\n",
    "\n",
    "# After that, replace the left and right diagonals with 0's"
   ]
  },
  {
   "cell_type": "code",
   "execution_count": 2,
   "id": "6406a4e5",
   "metadata": {},
   "outputs": [
    {
     "name": "stdout",
     "output_type": "stream",
     "text": [
      "[0, 2, 0]\n",
      "[4, 0, 6]\n",
      "[0, 8, 0]\n"
     ]
    }
   ],
   "source": [
    "def sort_matrix(matrix):\n",
    "    # Flatten the matrix into a list of elements.\n",
    "    flattened = [element for row in matrix for element in row]\n",
    "    \n",
    "    # Sort the flattened list.\n",
    "    flattened.sort()\n",
    "    \n",
    "    # Reconstruct the sorted matrix.\n",
    "    sorted_matrix = []\n",
    "    n = len(matrix)\n",
    "    \n",
    "    for i in range(0, len(flattened), n):\n",
    "        sorted_matrix.append(flattened[i:i+n])\n",
    "    \n",
    "    return sorted_matrix\n",
    "\n",
    "def replace_diagonals_with_zeros(matrix):\n",
    "    n = len(matrix)\n",
    "    for i in range(n):\n",
    "        # Replace elements on the left diagonal with 0.\n",
    "        matrix[i][i] = 0\n",
    "        # Replace elements on the right diagonal with 0.\n",
    "        matrix[i][n - i - 1] = 0\n",
    "\n",
    "# Example matrix\n",
    "matrix = [\n",
    "    [7, 6, 5],\n",
    "    [1, 2, 3],\n",
    "    [8, 4, 9]\n",
    "]\n",
    "\n",
    "# Sort the matrix\n",
    "sorted_matrix = sort_matrix(matrix)\n",
    "\n",
    "# Replace diagonals with zeros\n",
    "replace_diagonals_with_zeros(sorted_matrix)\n",
    "\n",
    "# Print the result\n",
    "for row in sorted_matrix:\n",
    "    print(row)\n"
   ]
  },
  {
   "cell_type": "code",
   "execution_count": 6,
   "id": "719edae5",
   "metadata": {},
   "outputs": [
    {
     "name": "stdout",
     "output_type": "stream",
     "text": [
      "Enter the number of rows: 3\n",
      "Enter the number of columns: 3\n",
      "Enter element at position (1, 1): 7\n",
      "Enter element at position (1, 2): 6\n",
      "Enter element at position (1, 3): 5\n",
      "Enter element at position (2, 1): 1\n",
      "Enter element at position (2, 2): 2\n",
      "Enter element at position (2, 3): 3\n",
      "Enter element at position (3, 1): 8\n",
      "Enter element at position (3, 2): 4\n",
      "Enter element at position (3, 3): 9\n",
      "Sorted Matrix:\n",
      "1 2 3\n",
      "4 5 6\n",
      "7 8 9\n",
      "\n",
      "Matrix with Diagonals Replaced:\n",
      "0 2 0\n",
      "4 0 6\n",
      "0 8 0\n"
     ]
    }
   ],
   "source": [
    "def get_matrix_from_user():\n",
    "    rows = int(input(\"Enter the number of rows: \"))\n",
    "    cols = int(input(\"Enter the number of columns: \"))\n",
    "\n",
    "    matrix = []\n",
    "    for i in range(rows):\n",
    "        row = []\n",
    "        for j in range(cols):\n",
    "            element = int(input(f\"Enter element at position ({i+1}, {j+1}): \"))\n",
    "            row.append(element)\n",
    "        matrix.append(row)\n",
    "\n",
    "    return matrix\n",
    "\n",
    "def print_matrix(matrix):\n",
    "    for row in matrix:\n",
    "        print(' '.join(map(str, row)))\n",
    "\n",
    "def sort_matrix(matrix):\n",
    "    flattened_matrix = [item for sublista in matrix for item in sublist]\n",
    "    flattened_matrix.sort()\n",
    "    sorted_matrix = [flattened_matrix[i:i+len(matrix[0])] for i in range(0, len(flattened_matrix), len(matrix[0]))]\n",
    "\n",
    "    return sorted_matrix\n",
    "\n",
    "def replace_diagonals(matrix):\n",
    "    size = len(matrix)\n",
    "    for i in range(size):\n",
    "        matrix[i][i] = 0\n",
    "        matrix[i][size - i - 1] = 0\n",
    "\n",
    "    return matrix\n",
    "\n",
    "# Get the matrix from the user\n",
    "matrix = get_matrix_from_user()\n",
    "\n",
    "# Sort the matrix\n",
    "sorted_matrix = sort_matrix(matrix)\n",
    "\n",
    "# Print the sorted matrix\n",
    "print(\"Sorted Matrix:\")\n",
    "print_matrix(sorted_matrix)\n",
    "\n",
    "# Replace diagonals with 0's\n",
    "modified_matrix = replace_diagonals(sorted_matrix)\n",
    "\n",
    "# Print the modified matrix\n",
    "print(\"\\nMatrix with Diagonals Replaced:\")\n",
    "print_matrix(modified_matrix)"
   ]
  },
  {
   "cell_type": "code",
   "execution_count": 7,
   "id": "b4a9230c",
   "metadata": {},
   "outputs": [
    {
     "name": "stdout",
     "output_type": "stream",
     "text": [
      "Enter t5\n",
      "Enter r6\n",
      "30\n"
     ]
    }
   ],
   "source": [
    "def mul(t, r):\n",
    "    if r == 0:\n",
    "        return 0\n",
    "    return t + mul(t, r - 1)\n",
    "t = int(input(\"Enter t\"))\n",
    "r = int(input(\"Enter r\"))\n",
    "result = mul(t,r)\n",
    "print(result)"
   ]
  },
  {
   "cell_type": "code",
   "execution_count": null,
   "id": "2ff01b02",
   "metadata": {},
   "outputs": [],
   "source": []
  }
 ],
 "metadata": {
  "kernelspec": {
   "display_name": "Python 3 (ipykernel)",
   "language": "python",
   "name": "python3"
  },
  "language_info": {
   "codemirror_mode": {
    "name": "ipython",
    "version": 3
   },
   "file_extension": ".py",
   "mimetype": "text/x-python",
   "name": "python",
   "nbconvert_exporter": "python",
   "pygments_lexer": "ipython3",
   "version": "3.9.13"
  }
 },
 "nbformat": 4,
 "nbformat_minor": 5
}
