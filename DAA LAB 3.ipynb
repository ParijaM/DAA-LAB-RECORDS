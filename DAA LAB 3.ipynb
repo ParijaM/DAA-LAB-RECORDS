{
 "cells": [
  {
   "cell_type": "code",
   "execution_count": 3,
   "id": "2a7bd6e5",
   "metadata": {},
   "outputs": [
    {
     "name": "stdout",
     "output_type": "stream",
     "text": [
      "[1, 10, 11, 12]\n"
     ]
    }
   ],
   "source": [
    "#Remove the duplicate value from the given array\n",
    "my_list = [1,10,11,12,11,1]\n",
    "unique_list = list(set(my_list))\n",
    "print(unique_list)"
   ]
  },
  {
   "cell_type": "code",
   "execution_count": null,
   "id": "7e6df225",
   "metadata": {},
   "outputs": [],
   "source": [
    "# create a linked list \n",
    "class Node:\n",
    "    def __init__(self, data):\n",
    "        self.data = data\n",
    "        self.next = None\n",
    "\n",
    "class LinkedList:\n",
    "    def __init__(self):\n",
    "        self.head = None\n",
    "\n",
    "    def append(self, data):\n",
    "        new_node = Node(data)\n",
    "        if not self.head:\n",
    "            self.head = new_node\n",
    "        else:\n",
    "            current = self.head\n",
    "            while current.next:\n",
    "                current = current.next\n",
    "            current.next = new_node\n",
    "            \n",
    "            def display(self):\n",
    "        current = self.head\n",
    "        while current:\n",
    "            print(current.data, end=\" -> \")\n",
    "            current = current.next\n",
    "        print(\"None\")"
   ]
  },
  {
   "cell_type": "code",
   "execution_count": 12,
   "id": "ee830fef",
   "metadata": {},
   "outputs": [],
   "source": [
    "#write a code to check weather the linked ist is loop or not\n",
    "class node:\n",
    "    def __init__(self, value = None):\n",
    "        self.key = k\n",
    "        self.next = none\n",
    "        \n",
    "def has_loop(head):\n",
    "    if not head or not head.next:\n",
    "        return false\n",
    "    \n",
    "    slow = head\n",
    "    fast = head\n",
    "    \n",
    "    while fast and fast.next:\n",
    "        slow = slow.next\n",
    "        fast = fast.next.next\n",
    "        if slow == fast:\n",
    "            return true\n",
    "        return false"
   ]
  },
  {
   "cell_type": "code",
   "execution_count": null,
   "id": "04447ff5",
   "metadata": {},
   "outputs": [],
   "source": [
    "#Merge sort\n",
    "def merge_sort = (arr, start, end):\n",
    "    if start < end:\n",
    "        mid = (start + end) // 2\n",
    "        #sort the left half\n",
    "        merge_sort(arr, start, mid)\n",
    "        \n",
    "        #sort the right half\n",
    "        merge_sort(arr, mid + , end)\n",
    "        \n",
    "        #merge the two sorted halves\n",
    "        merge_sort(arr, start, mid, end)\n",
    "        "
   ]
  }
 ],
 "metadata": {
  "kernelspec": {
   "display_name": "Python 3 (ipykernel)",
   "language": "python",
   "name": "python3"
  },
  "language_info": {
   "codemirror_mode": {
    "name": "ipython",
    "version": 3
   },
   "file_extension": ".py",
   "mimetype": "text/x-python",
   "name": "python",
   "nbconvert_exporter": "python",
   "pygments_lexer": "ipython3",
   "version": "3.9.13"
  }
 },
 "nbformat": 4,
 "nbformat_minor": 5
}
