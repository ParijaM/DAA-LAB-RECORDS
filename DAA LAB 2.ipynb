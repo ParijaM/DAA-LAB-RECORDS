{
 "cells": [
  {
   "cell_type": "code",
   "execution_count": null,
   "id": "61dba445",
   "metadata": {},
   "outputs": [],
   "source": [
    "LAB 2"
   ]
  },
  {
   "cell_type": "code",
   "execution_count": 1,
   "id": "9f9f0b94",
   "metadata": {},
   "outputs": [
    {
     "name": "stdout",
     "output_type": "stream",
     "text": [
      "1 3 5\n",
      "2 3 4\n"
     ]
    }
   ],
   "source": [
    "a=[1,2,3,4,5]\n",
    "for i in range(len(a)):\n",
    "    for j in range(i+1,len(a)):\n",
    "        for k in range(j+1,len(a)):\n",
    "            if a[i]+a[j]+a[k]==9:\n",
    "                print(a[i],a[j],a[k])"
   ]
  },
  {
   "cell_type": "code",
   "execution_count": 4,
   "id": "3f61f638",
   "metadata": {},
   "outputs": [
    {
     "name": "stdout",
     "output_type": "stream",
     "text": [
      "12 3 9\n"
     ]
    }
   ],
   "source": [
    "a=[12,3,4,1,6,9]\n",
    "for i in range(len(a)):\n",
    "    for j in range(i+1,len(a)):\n",
    "        for k in range(j+1,len(a)):\n",
    "            if a[i]+a[j]+a[k]==24:\n",
    "                print(a[i],a[j],a[k])"
   ]
  },
  {
   "cell_type": "code",
   "execution_count": 7,
   "id": "c21aa1bd",
   "metadata": {},
   "outputs": [
    {
     "name": "stdout",
     "output_type": "stream",
     "text": [
      "[0, 0, 0, 1, 1, 1, 2, 2, 2]\n"
     ]
    }
   ],
   "source": [
    "def insertion_sort(arr):\n",
    "    for i in range(1, len(arr)):\n",
    "        key = arr[i]\n",
    "        j = i - 1\n",
    "        while j >= 0 and key < arr[j]:\n",
    "            arr[j + 1] = arr[j]\n",
    "            j -= 1\n",
    "        arr[j + 1] = key\n",
    "\n",
    "arr = [0, 0, 1, 2, 0, 1, 2, 2, 1]\n",
    "insertion_sort(arr)\n",
    "print(arr)"
   ]
  },
  {
   "cell_type": "code",
   "execution_count": null,
   "id": "a6279ae8",
   "metadata": {},
   "outputs": [],
   "source": [
    "def insertion_sort(arr):\n",
    "    for i in range(1, len(arr)):\n",
    "        key = arr[i]\n",
    "        j = i - 1\n",
    "        "
   ]
  }
 ],
 "metadata": {
  "kernelspec": {
   "display_name": "Python 3 (ipykernel)",
   "language": "python",
   "name": "python3"
  },
  "language_info": {
   "codemirror_mode": {
    "name": "ipython",
    "version": 3
   },
   "file_extension": ".py",
   "mimetype": "text/x-python",
   "name": "python",
   "nbconvert_exporter": "python",
   "pygments_lexer": "ipython3",
   "version": "3.9.13"
  }
 },
 "nbformat": 4,
 "nbformat_minor": 5
}
