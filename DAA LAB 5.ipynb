{
 "cells": [
  {
   "cell_type": "code",
   "execution_count": null,
   "id": "64400430",
   "metadata": {},
   "outputs": [],
   "source": [
    "def find_max_ones_row(matrix):\n",
    "    max_ones = 0\n",
    "    max_ones_row = -1\n",
    "\n",
    "    for i, row in enumerate(matrix):\n",
    "        ones_count = sum(row)\n",
    "        if ones_count > max_ones:\n",
    "            max_ones = ones_count\n",
    "            max_ones_row = i\n",
    "\n",
    "    return max_ones_row\n",
    "\n",
    "# Example usage:\n",
    "matrix = [\n",
    "    [1, 1, 1, 1],\n",
    "    [1, 1, 1, 0],\n",
    "    [1, 0, 1, 0],\n",
    "    [1, 0, 0, 1]\n",
    "]\n",
    "\n",
    "result = find_max_ones_row(matrix)\n",
    "\n",
    "if result != -1:\n",
    "    print(f\"The row with the maximum number of 1s is row {result}\")\n",
    "else:\n",
    "    print()\n"
   ]
  },
  {
   "cell_type": "code",
   "execution_count": 9,
   "id": "1ed9265d",
   "metadata": {},
   "outputs": [
    {
     "name": "stdout",
     "output_type": "stream",
     "text": [
      "Sum of middle row and middle column values (excluding middle value): 56\n"
     ]
    }
   ],
   "source": [
    "def sum_middle_row_and_column(matrix):\n",
    "    rows = len(matrix)\n",
    "    cols = len(matrix[0])\n",
    "\n",
    "    middle_row = rows // 2\n",
    "    middle_col = cols // 2\n",
    "\n",
    "    middle_value = matrix[middle_row][middle_col]\n",
    "\n",
    "    row_sum = sum(matrix[middle_row])\n",
    "    col_sum = sum(row[middle_col] for row in matrix)\n",
    "    total_sum = row_sum + col_sum - middle_value\n",
    "    return total_sum\n",
    "\n",
    "matrix = [\n",
    "    [1, 2, 3, 4, 5],\n",
    "    [6, 7, 8, 9, 10],\n",
    "    [11, 12, 13, 14, 15]\n",
    "]\n",
    "\n",
    "result = sum_middle_row_and_column(matrix)\n",
    "print(\"Sum of middle row and middle column values (excluding middle value):\", result)\n",
    "    "
   ]
  },
  {
   "cell_type": "code",
   "execution_count": null,
   "id": "1c39ec38",
   "metadata": {},
   "outputs": [],
   "source": []
  }
 ],
 "metadata": {
  "kernelspec": {
   "display_name": "Python 3 (ipykernel)",
   "language": "python",
   "name": "python3"
  },
  "language_info": {
   "codemirror_mode": {
    "name": "ipython",
    "version": 3
   },
   "file_extension": ".py",
   "mimetype": "text/x-python",
   "name": "python",
   "nbconvert_exporter": "python",
   "pygments_lexer": "ipython3",
   "version": "3.9.13"
  }
 },
 "nbformat": 4,
 "nbformat_minor": 5
}
