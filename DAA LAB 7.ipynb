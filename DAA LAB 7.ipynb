{
 "cells": [
  {
   "cell_type": "code",
   "execution_count": 1,
   "id": "0beb561d",
   "metadata": {},
   "outputs": [
    {
     "name": "stdout",
     "output_type": "stream",
     "text": [
      "Does the directed graph have a loop? Yes\n"
     ]
    }
   ],
   "source": [
    "def has_loop(graph):\n",
    "    visited = set()\n",
    "    stack = set()\n",
    "\n",
    "    def dfs(node):\n",
    "        if node in stack:\n",
    "            return True  # Found a loop\n",
    "        if node in visited:\n",
    "            return False  # Already visited, no loop from here\n",
    "\n",
    "        stack.add(node)\n",
    "        visited.add(node)\n",
    "\n",
    "        for neighbor in graph.get(node, []):\n",
    "            if dfs(neighbor):\n",
    "                return True  # Found a loop\n",
    "\n",
    "        stack.remove(node)\n",
    "        return False\n",
    "\n",
    "    for node in graph:\n",
    "        if dfs(node):\n",
    "            return \"Yes\"  # Loop found\n",
    "\n",
    "    return \"No\"  # No loop found\n",
    "\n",
    "# Define the directed graph\n",
    "graph = {\n",
    "    1: [2],\n",
    "    2: [3, 4],\n",
    "    3: [1, 4],\n",
    "    4: [],\n",
    "}\n",
    "\n",
    "result = has_loop(graph)\n",
    "print(f\"Does the directed graph have a loop? {result}\")\n"
   ]
  },
  {
   "cell_type": "code",
   "execution_count": 2,
   "id": "69bdf907",
   "metadata": {},
   "outputs": [
    {
     "name": "stdout",
     "output_type": "stream",
     "text": [
      "The graph forms a Hamiltonian cycle.\n"
     ]
    }
   ],
   "source": [
    "def is_hamiltonian_cycle(graph):\n",
    "    def dfs(node, visited, path):\n",
    "        visited[node] = True\n",
    "        path.append(node)\n",
    "\n",
    "        if len(path) == len(graph) and path[0] in graph[path[-1]]:\n",
    "            return True\n",
    "\n",
    "        for neighbor in graph[node]:\n",
    "            if not visited[neighbor]:\n",
    "                if dfs(neighbor, visited, path):\n",
    "                    return True\n",
    "\n",
    "        visited[node] = False\n",
    "        path.pop()\n",
    "        return False\n",
    "\n",
    "    visited = {node: False for node in graph}\n",
    "    for node in graph:\n",
    "        path = []\n",
    "        if dfs(node, visited, path):\n",
    "            return True\n",
    "\n",
    "    return False\n",
    "\n",
    "# Define the graph as an adjacency list\n",
    "graph = {\n",
    "    1: [2, 3],\n",
    "    2: [1, 3, 4, 6],\n",
    "    3: [1, 2, 4],\n",
    "    4: [2, 3, 5],\n",
    "    5: [4, 6],\n",
    "    6: [2, 5],\n",
    "}\n",
    "\n",
    "if is_hamiltonian_cycle(graph):\n",
    "    print(\"The graph forms a Hamiltonian cycle.\")\n",
    "else:\n",
    "    print(\"The graph does not form a Hamiltonian cycle.\")\n"
   ]
  },
  {
   "cell_type": "code",
   "execution_count": 3,
   "id": "ec88d364",
   "metadata": {},
   "outputs": [
    {
     "name": "stdout",
     "output_type": "stream",
     "text": [
      "Path 1: [2, 1, 3, 4, 5, 6]\n",
      "Path 2: [2, 6, 5, 4, 3, 1]\n"
     ]
    }
   ],
   "source": [
    "def find_paths(graph, start_node):\n",
    "    def dfs(node, visited, path):\n",
    "        visited[node] = True\n",
    "        path.append(node)\n",
    "\n",
    "        if len(path) == len(graph) and path[0] == start_node:\n",
    "            paths.append(path[:])\n",
    "\n",
    "        for neighbor in graph[node]:\n",
    "            if not visited[neighbor]:\n",
    "                dfs(neighbor, visited, path)\n",
    "\n",
    "        visited[node] = False\n",
    "        path.pop()\n",
    "\n",
    "    paths = []\n",
    "    visited = {node: False for node in graph}\n",
    "    dfs(start_node, visited, [])\n",
    "\n",
    "    return paths\n",
    "\n",
    "# Define the graph as an adjacency list\n",
    "graph = {\n",
    "    1: [2, 3],\n",
    "    2: [1, 3, 4, 6],\n",
    "    3: [1, 2, 4],\n",
    "    4: [2, 3, 5],\n",
    "    5: [4, 6],\n",
    "    6: [2, 5],\n",
    "}\n",
    "\n",
    "start_node = 2  # Starting node visited twice\n",
    "\n",
    "all_paths = find_paths(graph, start_node)\n",
    "\n",
    "if not all_paths:\n",
    "    print(\"No paths found.\")\n",
    "else:\n",
    "    for i, path in enumerate(all_paths, 1):\n",
    "        print(f\"Path {i}: {path}\")\n"
   ]
  },
  {
   "cell_type": "code",
   "execution_count": 7,
   "id": "1f6051c2",
   "metadata": {},
   "outputs": [
    {
     "name": "stdout",
     "output_type": "stream",
     "text": [
      "Path 1: [1, 2, 3, 4, 5, 6]\n",
      "Path 2: [1, 2, 6, 5, 4, 3]\n",
      "Path 3: [1, 3, 2, 4, 5, 6]\n"
     ]
    }
   ],
   "source": [
    "def find_paths(graph, start_node, num_paths=4):\n",
    "    def dfs(node, visited, path):\n",
    "        visited[node] = True\n",
    "        path.append(node)\n",
    "\n",
    "        if len(path) == len(graph) and path[0] == start_node:\n",
    "            paths.append(path[:])\n",
    "\n",
    "        for neighbor in graph[node]:\n",
    "            if not visited[neighbor]:\n",
    "                dfs(neighbor, visited, path)\n",
    "\n",
    "        visited[node] = False\n",
    "        path.pop()\n",
    "\n",
    "    paths = []\n",
    "    visited = {node: False for node in graph}\n",
    "    dfs(start_node, visited, [])\n",
    "\n",
    "    return paths[:num_paths]\n",
    "\n",
    "# Define the graph as an adjacency list\n",
    "graph = {\n",
    "    1: [2, 3, 6],\n",
    "    2: [1, 3, 4, 6],\n",
    "    3: [1, 2, 4],\n",
    "    4: [2, 3, 5],\n",
    "    5: [4, 6],\n",
    "    6: [2, 5],\n",
    "}\n",
    "\n",
    "start_node = 1  # Starting node visited twice\n",
    "\n",
    "num_paths_to_find = 3\n",
    "\n",
    "found_paths = find_paths(graph, start_node, num_paths_to_find)\n",
    "\n",
    "if not found_paths:\n",
    "    print(f\"Couldn't find {num_paths_to_find} paths.\")\n",
    "else:\n",
    "    for i, path in enumerate(found_paths, 1):\n",
    "        print(f\"Path {i}: {path}\")\n"
   ]
  },
  {
   "cell_type": "code",
   "execution_count": null,
   "id": "441198e0",
   "metadata": {},
   "outputs": [],
   "source": []
  }
 ],
 "metadata": {
  "kernelspec": {
   "display_name": "Python 3 (ipykernel)",
   "language": "python",
   "name": "python3"
  },
  "language_info": {
   "codemirror_mode": {
    "name": "ipython",
    "version": 3
   },
   "file_extension": ".py",
   "mimetype": "text/x-python",
   "name": "python",
   "nbconvert_exporter": "python",
   "pygments_lexer": "ipython3",
   "version": "3.9.13"
  }
 },
 "nbformat": 4,
 "nbformat_minor": 5
}
